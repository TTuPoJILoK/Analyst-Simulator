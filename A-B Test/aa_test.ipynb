{
 "cells": [
  {
   "cell_type": "code",
   "execution_count": 1,
   "id": "04cbcf7d-af17-4167-bfaf-65fdb9e6110b",
   "metadata": {},
   "outputs": [],
   "source": [
    "# Импортируем библиотеки\n",
    "\n",
    "import pandahouse\n",
    "import pandas as pd\n",
    "import seaborn as sns\n",
    "from scipy import stats"
   ]
  },
  {
   "cell_type": "markdown",
   "id": "f5e37835-9dbf-4fe4-90a8-7ec65446124a",
   "metadata": {},
   "source": [
    "## A/A тест"
   ]
  },
  {
   "cell_type": "code",
   "execution_count": 2,
   "id": "230503fa-c2c8-4eb7-a4ec-0aff701c7944",
   "metadata": {},
   "outputs": [],
   "source": [
    "# Выгружаем пользователей, которые участвовали в A/A тесте из групп 2 и 3\n",
    "\n",
    "connection = {'host': 'https://clickhouse.lab.karpov.courses',\n",
    "                      'database':'simulator_20230720',\n",
    "                      'user':'student', \n",
    "                      'password':'dpo_python_2020'\n",
    "                     }\n",
    "\n",
    "q = \"\"\"\n",
    "SELECT\n",
    "  exp_group,\n",
    "  user_id,\n",
    "  sum(action = 'like') as likes,\n",
    "  sum(action = 'view') as views,\n",
    "  likes / views as ctr\n",
    "FROM\n",
    "  simulator_20230720.feed_actions\n",
    "WHERE\n",
    "  toDate(time) between '2023-06-23'\n",
    "  and '2023-06-29'\n",
    "  and exp_group in (2, 3)\n",
    "GROUP BY\n",
    "  exp_group,\n",
    "  user_id\n",
    "\"\"\"\n",
    "\n",
    "df = pandahouse.read_clickhouse(q, connection=connection)"
   ]
  },
  {
   "cell_type": "code",
   "execution_count": 3,
   "id": "867a7ad6-3b0a-4065-bbd0-fd470a846276",
   "metadata": {},
   "outputs": [
    {
     "data": {
      "text/html": [
       "<div>\n",
       "<style scoped>\n",
       "    .dataframe tbody tr th:only-of-type {\n",
       "        vertical-align: middle;\n",
       "    }\n",
       "\n",
       "    .dataframe tbody tr th {\n",
       "        vertical-align: top;\n",
       "    }\n",
       "\n",
       "    .dataframe thead th {\n",
       "        text-align: right;\n",
       "    }\n",
       "</style>\n",
       "<table border=\"1\" class=\"dataframe\">\n",
       "  <thead>\n",
       "    <tr style=\"text-align: right;\">\n",
       "      <th></th>\n",
       "      <th>exp_group</th>\n",
       "      <th>user_id</th>\n",
       "      <th>likes</th>\n",
       "      <th>views</th>\n",
       "      <th>ctr</th>\n",
       "    </tr>\n",
       "  </thead>\n",
       "  <tbody>\n",
       "    <tr>\n",
       "      <th>0</th>\n",
       "      <td>3</td>\n",
       "      <td>115383</td>\n",
       "      <td>38</td>\n",
       "      <td>248</td>\n",
       "      <td>0.153226</td>\n",
       "    </tr>\n",
       "    <tr>\n",
       "      <th>1</th>\n",
       "      <td>3</td>\n",
       "      <td>10326</td>\n",
       "      <td>24</td>\n",
       "      <td>132</td>\n",
       "      <td>0.181818</td>\n",
       "    </tr>\n",
       "    <tr>\n",
       "      <th>2</th>\n",
       "      <td>3</td>\n",
       "      <td>123580</td>\n",
       "      <td>25</td>\n",
       "      <td>122</td>\n",
       "      <td>0.204918</td>\n",
       "    </tr>\n",
       "    <tr>\n",
       "      <th>3</th>\n",
       "      <td>2</td>\n",
       "      <td>131473</td>\n",
       "      <td>19</td>\n",
       "      <td>98</td>\n",
       "      <td>0.193878</td>\n",
       "    </tr>\n",
       "    <tr>\n",
       "      <th>4</th>\n",
       "      <td>2</td>\n",
       "      <td>23985</td>\n",
       "      <td>12</td>\n",
       "      <td>44</td>\n",
       "      <td>0.272727</td>\n",
       "    </tr>\n",
       "    <tr>\n",
       "      <th>...</th>\n",
       "      <td>...</td>\n",
       "      <td>...</td>\n",
       "      <td>...</td>\n",
       "      <td>...</td>\n",
       "      <td>...</td>\n",
       "    </tr>\n",
       "    <tr>\n",
       "      <th>16782</th>\n",
       "      <td>3</td>\n",
       "      <td>122008</td>\n",
       "      <td>20</td>\n",
       "      <td>123</td>\n",
       "      <td>0.162602</td>\n",
       "    </tr>\n",
       "    <tr>\n",
       "      <th>16783</th>\n",
       "      <td>2</td>\n",
       "      <td>25383</td>\n",
       "      <td>2</td>\n",
       "      <td>18</td>\n",
       "      <td>0.111111</td>\n",
       "    </tr>\n",
       "    <tr>\n",
       "      <th>16784</th>\n",
       "      <td>3</td>\n",
       "      <td>122190</td>\n",
       "      <td>15</td>\n",
       "      <td>56</td>\n",
       "      <td>0.267857</td>\n",
       "    </tr>\n",
       "    <tr>\n",
       "      <th>16785</th>\n",
       "      <td>2</td>\n",
       "      <td>108927</td>\n",
       "      <td>16</td>\n",
       "      <td>51</td>\n",
       "      <td>0.313725</td>\n",
       "    </tr>\n",
       "    <tr>\n",
       "      <th>16786</th>\n",
       "      <td>2</td>\n",
       "      <td>17310</td>\n",
       "      <td>24</td>\n",
       "      <td>75</td>\n",
       "      <td>0.320000</td>\n",
       "    </tr>\n",
       "  </tbody>\n",
       "</table>\n",
       "<p>16787 rows × 5 columns</p>\n",
       "</div>"
      ],
      "text/plain": [
       "       exp_group  user_id  likes  views       ctr\n",
       "0              3   115383     38    248  0.153226\n",
       "1              3    10326     24    132  0.181818\n",
       "2              3   123580     25    122  0.204918\n",
       "3              2   131473     19     98  0.193878\n",
       "4              2    23985     12     44  0.272727\n",
       "...          ...      ...    ...    ...       ...\n",
       "16782          3   122008     20    123  0.162602\n",
       "16783          2    25383      2     18  0.111111\n",
       "16784          3   122190     15     56  0.267857\n",
       "16785          2   108927     16     51  0.313725\n",
       "16786          2    17310     24     75  0.320000\n",
       "\n",
       "[16787 rows x 5 columns]"
      ]
     },
     "execution_count": 3,
     "metadata": {},
     "output_type": "execute_result"
    }
   ],
   "source": [
    "df"
   ]
  },
  {
   "cell_type": "code",
   "execution_count": 4,
   "id": "b286a9a6-8ea0-4400-8074-604d9be4c1ad",
   "metadata": {},
   "outputs": [
    {
     "data": {
      "text/html": [
       "<div>\n",
       "<style scoped>\n",
       "    .dataframe tbody tr th:only-of-type {\n",
       "        vertical-align: middle;\n",
       "    }\n",
       "\n",
       "    .dataframe tbody tr th {\n",
       "        vertical-align: top;\n",
       "    }\n",
       "\n",
       "    .dataframe thead th {\n",
       "        text-align: right;\n",
       "    }\n",
       "</style>\n",
       "<table border=\"1\" class=\"dataframe\">\n",
       "  <thead>\n",
       "    <tr style=\"text-align: right;\">\n",
       "      <th></th>\n",
       "      <th>user_id</th>\n",
       "      <th>likes</th>\n",
       "      <th>views</th>\n",
       "      <th>ctr</th>\n",
       "    </tr>\n",
       "    <tr>\n",
       "      <th>exp_group</th>\n",
       "      <th></th>\n",
       "      <th></th>\n",
       "      <th></th>\n",
       "      <th></th>\n",
       "    </tr>\n",
       "  </thead>\n",
       "  <tbody>\n",
       "    <tr>\n",
       "      <th>2</th>\n",
       "      <td>8362</td>\n",
       "      <td>8362</td>\n",
       "      <td>8362</td>\n",
       "      <td>8362</td>\n",
       "    </tr>\n",
       "    <tr>\n",
       "      <th>3</th>\n",
       "      <td>8425</td>\n",
       "      <td>8425</td>\n",
       "      <td>8425</td>\n",
       "      <td>8425</td>\n",
       "    </tr>\n",
       "  </tbody>\n",
       "</table>\n",
       "</div>"
      ],
      "text/plain": [
       "           user_id  likes  views   ctr\n",
       "exp_group                             \n",
       "2             8362   8362   8362  8362\n",
       "3             8425   8425   8425  8425"
      ]
     },
     "execution_count": 4,
     "metadata": {},
     "output_type": "execute_result"
    }
   ],
   "source": [
    "# Считаем число пользователей в группах\n",
    "df.groupby('exp_group').count()"
   ]
  },
  {
   "cell_type": "code",
   "execution_count": 8,
   "id": "3828acff-eb1f-4d0c-862c-59cfde6d906c",
   "metadata": {},
   "outputs": [],
   "source": [
    "sns.set(rc={'figure.figsize': (18, 12) })"
   ]
  },
  {
   "cell_type": "code",
   "execution_count": 9,
   "id": "4402aaa8-1b4b-4b04-af29-228c23dc6d11",
   "metadata": {},
   "outputs": [
    {
     "data": {
      "image/png": "[encoded data removed]",
      "text/plain": [
       "<Figure size 1296x864 with 1 Axes>"
      ]
     },
     "metadata": {},
     "output_type": "display_data"
    }
   ],
   "source": [
    "# визуализируем распредление ctr в дыух группах пользователей\n",
    "\n",
    "groups = sns.histplot(data=df,\n",
    "                      x='ctr',\n",
    "                      hue='exp_group',\n",
    "                      palette=['r', 'b'],\n",
    "                      alpha=0.5,\n",
    "                      kde=False)"
   ]
  },
  {
   "cell_type": "code",
   "execution_count": 7,
   "id": "c0606b0f-f8ac-4ff8-95d9-5d052c05dd36",
   "metadata": {},
   "outputs": [
    {
     "data": {
      "text/plain": [
       "Ttest_indResult(statistic=0.6617303509169772, pvalue=0.5081531382926275)"
      ]
     },
     "execution_count": 7,
     "metadata": {},
     "output_type": "execute_result"
    }
   ],
   "source": [
    "# Сравним статистически распределения ctr в двух группах пользователей\n",
    "\n",
    "stats.ttest_ind(df[df.exp_group == 2].ctr,\n",
    "                df[df.exp_group == 3].ctr,\n",
    "                equal_var=False)"
   ]
  },
  {
   "cell_type": "markdown",
   "id": "d6dc8d2e-0635-45b1-bfa1-d39600d6982f",
   "metadata": {},
   "source": [
    "Ни визуально, ни статистически нет различий группами пользователей 2 и 3"
   ]
  },
  {
   "cell_type": "markdown",
   "id": "a32203ad-1b83-460a-872d-cd66816ba753",
   "metadata": {},
   "source": [
    "## Проведем 10000 A/A тестов"
   ]
  },
  {
   "cell_type": "code",
   "execution_count": 10,
   "id": "d0721e9d-af0c-4cb7-987e-7008c8edc88e",
   "metadata": {},
   "outputs": [],
   "source": [
    "# Проведем 10000 A/A тестов на выборказ по 500 пользователей из групп 2 и 3\n",
    "\n",
    "p_values = []\n",
    "\n",
    "for _ in range(10000):\n",
    "    sample_1 = df[df.exp_group == 2].sample(500, replace=True)\n",
    "    sample_2 = df[df.exp_group == 3].sample(500, replace=True)\n",
    "    p_value = stats.ttest_ind(sample_1.ctr,\n",
    "                sample_2.ctr,\n",
    "                equal_var=False)[1]\n",
    "    p_values.append(p_value)"
   ]
  },
  {
   "cell_type": "code",
   "execution_count": 11,
   "id": "1badc1e3-fe31-4677-be37-bef8942d959a",
   "metadata": {},
   "outputs": [
    {
     "data": {
      "text/plain": [
       "<Axes: ylabel='Count'>"
      ]
     },
     "execution_count": 11,
     "metadata": {},
     "output_type": "execute_result"
    },
    {
     "data": {
      "image/png": "[encoded data removed]",
      "text/plain": [
       "<Figure size 1296x864 with 1 Axes>"
      ]
     },
     "metadata": {},
     "output_type": "display_data"
    }
   ],
   "source": [
    "# Визуализация распределения полученных p values в 10000 тестах\n",
    "\n",
    "sns.histplot(data=p_values,\n",
    "                      alpha=0.5,\n",
    "                      kde=False)"
   ]
  },
  {
   "cell_type": "code",
   "execution_count": 12,
   "id": "def09adb-1a02-4af5-9dd9-d43b358e52c8",
   "metadata": {},
   "outputs": [
    {
     "name": "stdout",
     "output_type": "stream",
     "text": [
      "5.53% p values оказались меньше либо равены 0.05\n"
     ]
    }
   ],
   "source": [
    "# Подсчет количества p values, которые меньше либо равны 0.05\n",
    "\n",
    "count = 0\n",
    "\n",
    "for p_value in p_values:\n",
    "    if p_value <= 0.05:\n",
    "        count += 1\n",
    "print(f\"{100 * count / len(p_values)}% p values оказались меньше либо равены 0.05\")"
   ]
  },
  {
   "cell_type": "markdown",
   "id": "57de7ef4-bf6d-4f35-a32a-f29cb8a35396",
   "metadata": {},
   "source": [
    "## Вывод\n",
    "Значения p values распределены примерно равномерно. Всего 5% p values оказались меньше или равны 0.05. Таким образом, наша сисетма сплитования корректна."
   ]
  }
 ],
 "metadata": {
  "kernelspec": {
   "display_name": "Python 3 (ipykernel)",
   "language": "python",
   "name": "python3"
  },
  "language_info": {
   "codemirror_mode": {
    "name": "ipython",
    "version": 3
   },
   "file_extension": ".py",
   "mimetype": "text/x-python",
   "name": "python",
   "nbconvert_exporter": "python",
   "pygments_lexer": "ipython3",
   "version": "3.8.10"
  }
 },
 "nbformat": 4,
 "nbformat_minor": 5
}
