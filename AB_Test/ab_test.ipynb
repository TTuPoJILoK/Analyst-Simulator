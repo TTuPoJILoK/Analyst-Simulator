{
 "cells": [
  {
   "cell_type": "code",
   "execution_count": 1,
   "id": "0b0afa7f-4ae1-4bb3-9a0e-acbfe1d3b61e",
   "metadata": {},
   "outputs": [],
   "source": [
    "import pandahouse\n",
    "import pandas as pd\n",
    "import seaborn as sns\n",
    "from scipy import stats\n",
    "import numpy as np\n",
    "import matplotlib.pyplot as plt"
   ]
  },
  {
   "cell_type": "markdown",
   "id": "2d59542e-b0e3-4e24-a22e-2d838055760a",
   "metadata": {},
   "source": [
    "# Задача\n",
    "Протестируем один из новых алгоритмов рекомендации постов. \\\n",
    "Эксперимент проходил с 2023-06-30 по 2023-07-06 включительно. Для эксперимента были задействованы 2 и 1 группы. В группе 2 был использован новый алгоритм рекомендации постов, группа 1 использовалась в качестве контроля. \\\n",
    "Основная гипотеза заключается в том, что новый алгоритм во 2-й группе приведет к увеличению CTR.  \\\n",
    "Задача — проанализировать данные АB-теста.\n",
    "1. Выбрать метод анализа и сравнить CTR в двух группах (t-тест, Пуассоновский бутстреп, тест Манна-Уитни, t-тест на сглаженном ctr (α=5) а также t-тест и тест Манна-Уитни поверх бакетного преобразования).\n",
    "2. Сравнить данные этими тестами. А еще посмотреть на распределения глазами. Почему тесты сработали так как сработали? \n",
    "3. Описать потенциальную ситуацию, когда такое изменение могло произойти.\n",
    "4. Напишисать рекомендацию, будем ли мы раскатывать новый алгоритм на всех новых пользователей или все-таки не стоит."
   ]
  },
  {
   "cell_type": "code",
   "execution_count": 2,
   "id": "e9097ae1-14d0-4927-a688-9defdca2b327",
   "metadata": {},
   "outputs": [],
   "source": [
    "# Выгружаем пользователей, которые участвовали в A/B тесте из групп 2 и 1\n",
    "\n",
    "connection = {'host': 'https://clickhouse.lab.karpov.courses',\n",
    "                      'database':'simulator_20230720',\n",
    "                      'user':'student', \n",
    "                      'password':'dpo_python_2020'\n",
    "                     }\n",
    "\n",
    "q = \"\"\"\n",
    "SELECT\n",
    "  exp_group,\n",
    "  user_id,\n",
    "  sum(action = 'like') as likes,\n",
    "  sum(action = 'view') as views,\n",
    "  likes / views as ctr\n",
    "FROM\n",
    "  simulator_20230720.feed_actions\n",
    "WHERE\n",
    "  toDate(time) between '2023-06-30'\n",
    "  and '2023-07-06'\n",
    "  and exp_group in (2, 1)\n",
    "GROUP BY\n",
    "  exp_group,\n",
    "  user_id\n",
    "\"\"\"\n",
    "\n",
    "df = pandahouse.read_clickhouse(q, connection=connection)"
   ]
  },
  {
   "cell_type": "code",
   "execution_count": 3,
   "id": "d1921f06-0f7f-44f7-839b-6c3806bbdf0f",
   "metadata": {},
   "outputs": [
    {
     "data": {
      "text/html": [
       "<div>\n",
       "<style scoped>\n",
       "    .dataframe tbody tr th:only-of-type {\n",
       "        vertical-align: middle;\n",
       "    }\n",
       "\n",
       "    .dataframe tbody tr th {\n",
       "        vertical-align: top;\n",
       "    }\n",
       "\n",
       "    .dataframe thead th {\n",
       "        text-align: right;\n",
       "    }\n",
       "</style>\n",
       "<table border=\"1\" class=\"dataframe\">\n",
       "  <thead>\n",
       "    <tr style=\"text-align: right;\">\n",
       "      <th></th>\n",
       "      <th>exp_group</th>\n",
       "      <th>user_id</th>\n",
       "      <th>likes</th>\n",
       "      <th>views</th>\n",
       "      <th>ctr</th>\n",
       "    </tr>\n",
       "  </thead>\n",
       "  <tbody>\n",
       "    <tr>\n",
       "      <th>0</th>\n",
       "      <td>1</td>\n",
       "      <td>109963</td>\n",
       "      <td>3</td>\n",
       "      <td>15</td>\n",
       "      <td>0.200000</td>\n",
       "    </tr>\n",
       "    <tr>\n",
       "      <th>1</th>\n",
       "      <td>1</td>\n",
       "      <td>26117</td>\n",
       "      <td>32</td>\n",
       "      <td>141</td>\n",
       "      <td>0.226950</td>\n",
       "    </tr>\n",
       "    <tr>\n",
       "      <th>2</th>\n",
       "      <td>1</td>\n",
       "      <td>138232</td>\n",
       "      <td>18</td>\n",
       "      <td>73</td>\n",
       "      <td>0.246575</td>\n",
       "    </tr>\n",
       "    <tr>\n",
       "      <th>3</th>\n",
       "      <td>1</td>\n",
       "      <td>18392</td>\n",
       "      <td>7</td>\n",
       "      <td>32</td>\n",
       "      <td>0.218750</td>\n",
       "    </tr>\n",
       "    <tr>\n",
       "      <th>4</th>\n",
       "      <td>1</td>\n",
       "      <td>26295</td>\n",
       "      <td>39</td>\n",
       "      <td>141</td>\n",
       "      <td>0.276596</td>\n",
       "    </tr>\n",
       "    <tr>\n",
       "      <th>...</th>\n",
       "      <td>...</td>\n",
       "      <td>...</td>\n",
       "      <td>...</td>\n",
       "      <td>...</td>\n",
       "      <td>...</td>\n",
       "    </tr>\n",
       "    <tr>\n",
       "      <th>19892</th>\n",
       "      <td>2</td>\n",
       "      <td>17146</td>\n",
       "      <td>0</td>\n",
       "      <td>10</td>\n",
       "      <td>0.000000</td>\n",
       "    </tr>\n",
       "    <tr>\n",
       "      <th>19893</th>\n",
       "      <td>1</td>\n",
       "      <td>30872</td>\n",
       "      <td>11</td>\n",
       "      <td>59</td>\n",
       "      <td>0.186441</td>\n",
       "    </tr>\n",
       "    <tr>\n",
       "      <th>19894</th>\n",
       "      <td>2</td>\n",
       "      <td>25383</td>\n",
       "      <td>42</td>\n",
       "      <td>127</td>\n",
       "      <td>0.330709</td>\n",
       "    </tr>\n",
       "    <tr>\n",
       "      <th>19895</th>\n",
       "      <td>2</td>\n",
       "      <td>139020</td>\n",
       "      <td>17</td>\n",
       "      <td>41</td>\n",
       "      <td>0.414634</td>\n",
       "    </tr>\n",
       "    <tr>\n",
       "      <th>19896</th>\n",
       "      <td>2</td>\n",
       "      <td>17310</td>\n",
       "      <td>9</td>\n",
       "      <td>82</td>\n",
       "      <td>0.109756</td>\n",
       "    </tr>\n",
       "  </tbody>\n",
       "</table>\n",
       "<p>19897 rows × 5 columns</p>\n",
       "</div>"
      ],
      "text/plain": [
       "       exp_group  user_id  likes  views       ctr\n",
       "0              1   109963      3     15  0.200000\n",
       "1              1    26117     32    141  0.226950\n",
       "2              1   138232     18     73  0.246575\n",
       "3              1    18392      7     32  0.218750\n",
       "4              1    26295     39    141  0.276596\n",
       "...          ...      ...    ...    ...       ...\n",
       "19892          2    17146      0     10  0.000000\n",
       "19893          1    30872     11     59  0.186441\n",
       "19894          2    25383     42    127  0.330709\n",
       "19895          2   139020     17     41  0.414634\n",
       "19896          2    17310      9     82  0.109756\n",
       "\n",
       "[19897 rows x 5 columns]"
      ]
     },
     "execution_count": 3,
     "metadata": {},
     "output_type": "execute_result"
    }
   ],
   "source": [
    "df"
   ]
  },
  {
   "cell_type": "code",
   "execution_count": 4,
   "id": "6fa8642e-88a3-4b72-a884-c43bc07083eb",
   "metadata": {},
   "outputs": [
    {
     "data": {
      "text/html": [
       "<div>\n",
       "<style scoped>\n",
       "    .dataframe tbody tr th:only-of-type {\n",
       "        vertical-align: middle;\n",
       "    }\n",
       "\n",
       "    .dataframe tbody tr th {\n",
       "        vertical-align: top;\n",
       "    }\n",
       "\n",
       "    .dataframe thead th {\n",
       "        text-align: right;\n",
       "    }\n",
       "</style>\n",
       "<table border=\"1\" class=\"dataframe\">\n",
       "  <thead>\n",
       "    <tr style=\"text-align: right;\">\n",
       "      <th></th>\n",
       "      <th>user_id</th>\n",
       "      <th>likes</th>\n",
       "      <th>views</th>\n",
       "      <th>ctr</th>\n",
       "    </tr>\n",
       "    <tr>\n",
       "      <th>exp_group</th>\n",
       "      <th></th>\n",
       "      <th></th>\n",
       "      <th></th>\n",
       "      <th></th>\n",
       "    </tr>\n",
       "  </thead>\n",
       "  <tbody>\n",
       "    <tr>\n",
       "      <th>1</th>\n",
       "      <td>10020</td>\n",
       "      <td>10020</td>\n",
       "      <td>10020</td>\n",
       "      <td>10020</td>\n",
       "    </tr>\n",
       "    <tr>\n",
       "      <th>2</th>\n",
       "      <td>9877</td>\n",
       "      <td>9877</td>\n",
       "      <td>9877</td>\n",
       "      <td>9877</td>\n",
       "    </tr>\n",
       "  </tbody>\n",
       "</table>\n",
       "</div>"
      ],
      "text/plain": [
       "           user_id  likes  views    ctr\n",
       "exp_group                              \n",
       "1            10020  10020  10020  10020\n",
       "2             9877   9877   9877   9877"
      ]
     },
     "execution_count": 4,
     "metadata": {},
     "output_type": "execute_result"
    }
   ],
   "source": [
    "df.groupby('exp_group').count()"
   ]
  },
  {
   "cell_type": "code",
   "execution_count": 7,
   "id": "22a5a9bf-e57e-46f4-a0a0-3609261e4676",
   "metadata": {},
   "outputs": [],
   "source": [
    "sns.set(rc={'figure.figsize': (18, 12) })"
   ]
  },
  {
   "cell_type": "code",
   "execution_count": 8,
   "id": "f2e044f2-8ccf-40c1-8645-cd67f4ded303",
   "metadata": {},
   "outputs": [
    {
     "data": {
      "image/png": "[encoded data removed]",
      "text/plain": [
       "<Figure size 1296x864 with 1 Axes>"
      ]
     },
     "metadata": {},
     "output_type": "display_data"
    }
   ],
   "source": [
    "# визуализируем распределение CTR в группах\n",
    "\n",
    "groups = sns.histplot(data = df, \n",
    "              x='ctr', \n",
    "              hue='exp_group', \n",
    "              palette = ['r', 'b'],\n",
    "              alpha=0.5,\n",
    "              kde=False)"
   ]
  },
  {
   "cell_type": "markdown",
   "id": "53beaf75-ec79-4d24-8889-f08941aeee21",
   "metadata": {},
   "source": [
    "## T-test\n"
   ]
  },
  {
   "cell_type": "code",
   "execution_count": 9,
   "id": "fa8895a4-f509-4edf-a852-c0920cae812c",
   "metadata": {},
   "outputs": [
    {
     "data": {
      "text/plain": [
       "Ttest_indResult(statistic=0.4051491913112757, pvalue=0.685373331140751)"
      ]
     },
     "execution_count": 9,
     "metadata": {},
     "output_type": "execute_result"
    }
   ],
   "source": [
    "stats.ttest_ind(df[df.exp_group == 1].ctr,\n",
    "                df[df.exp_group == 2].ctr,\n",
    "                equal_var=False)"
   ]
  },
  {
   "cell_type": "markdown",
   "id": "7eabb96e-8a39-4177-a407-fd3b23dfaa1c",
   "metadata": {},
   "source": [
    "Согласно t-тесту p value получается достаточно большим. То есть мы не можем принять гипотезу о том, что новая система рекомендаций приводит к увееличению CTR."
   ]
  },
  {
   "cell_type": "markdown",
   "id": "0f69dd19-879e-4402-9e5f-8c8e973f2a2c",
   "metadata": {},
   "source": [
    "## Тест Манна — Уитни"
   ]
  },
  {
   "cell_type": "code",
   "execution_count": 10,
   "id": "239e20cd-7592-4e4f-8ca5-ea4a31610dcb",
   "metadata": {},
   "outputs": [
    {
     "data": {
      "text/plain": [
       "MannwhitneyuResult(statistic=55189913.0, pvalue=4.632205841806026e-45)"
      ]
     },
     "execution_count": 10,
     "metadata": {},
     "output_type": "execute_result"
    }
   ],
   "source": [
    "stats.mannwhitneyu(df[df.exp_group == 1].ctr, \n",
    "                   df[df.exp_group == 2].ctr,\n",
    "                   alternative = 'two-sided')"
   ]
  },
  {
   "cell_type": "markdown",
   "id": "ffdd0e2f-a9fa-4c52-931c-5a7d61418699",
   "metadata": {},
   "source": [
    "Тест Манна — Уитни показывает противоположный результат p value получается сильно меньше 0.05. То есть гипотеза о том, что новая система рекомендаций приводит к увееличению CTR принимается."
   ]
  },
  {
   "cell_type": "markdown",
   "id": "c3730ade-3e73-4389-a257-a6c26d780af9",
   "metadata": {},
   "source": [
    "## T-тест на сглаженном ctr (α=5)"
   ]
  },
  {
   "cell_type": "code",
   "execution_count": 12,
   "id": "a84b7a8c-9a20-4049-bcf6-dd28a2d49e7f",
   "metadata": {},
   "outputs": [
    {
     "data": {
      "text/plain": [
       "<Axes: xlabel='ctr', ylabel='Count'>"
      ]
     },
     "execution_count": 12,
     "metadata": {},
     "output_type": "execute_result"
    },
    {
     "data": {
      "image/png": "[encoded data removed]",
      "text/plain": [
       "<Figure size 1296x864 with 2 Axes>"
      ]
     },
     "metadata": {},
     "output_type": "display_data"
    }
   ],
   "source": [
    "# Вычисляем глобальный CTR и выводим гистограмы CTR в группах\n",
    "\n",
    "def get_smothed_ctr(user_likes, user_views, global_ctr, alpha):\n",
    "    smothed_ctr = (user_likes + alpha * global_ctr) / (user_views + alpha)\n",
    "    return smothed_ctr\n",
    "\n",
    "\n",
    "global_ctr_1 = df[df.exp_group == 1].likes.sum()/df[df.exp_group == 1].views.sum()\n",
    "global_ctr_2 = df[df.exp_group == 2].likes.sum()/df[df.exp_group == 2].views.sum()\n",
    "\n",
    "plt.subplot(1, 2, 1)\n",
    "group1 = df[df.exp_group == 1].copy()\n",
    "sns.histplot(group1.ctr, \n",
    "             kde = False)\n",
    "plt.subplot(1, 2, 2)\n",
    "group2 = df[df.exp_group == 2].copy()\n",
    "sns.histplot(group2.ctr, \n",
    "             kde = False)"
   ]
  },
  {
   "cell_type": "code",
   "execution_count": 13,
   "id": "d215bd77-015b-45ff-ae2c-e2cd94f44f20",
   "metadata": {},
   "outputs": [
    {
     "data": {
      "text/plain": [
       "<Axes: xlabel='smothed_ctr', ylabel='Count'>"
      ]
     },
     "execution_count": 13,
     "metadata": {},
     "output_type": "execute_result"
    },
    {
     "data": {
      "image/png": "[encoded data removed]",
      "text/plain": [
       "<Figure size 1296x864 with 2 Axes>"
      ]
     },
     "metadata": {},
     "output_type": "display_data"
    }
   ],
   "source": [
    "# Вычисляем сглаженный CTR и строим гистограммы для сглаженного CTR\n",
    "\n",
    "group1['smothed_ctr'] = df.apply(\n",
    "    lambda x: get_smothed_ctr(x['likes'], x['views'], global_ctr_1, 5), axis=1)\n",
    "group2['smothed_ctr'] = df.apply(\n",
    "    lambda x: get_smothed_ctr(x['likes'], x['views'], global_ctr_2, 5), axis=1)\n",
    "\n",
    "plt.subplot(1, 2, 1)\n",
    "sns.histplot(group1.smothed_ctr, \n",
    "             kde = False)\n",
    "plt.subplot(1, 2, 2)\n",
    "sns.histplot(group2.smothed_ctr, \n",
    "             kde = False)"
   ]
  },
  {
   "cell_type": "code",
   "execution_count": 14,
   "id": "18d80627-fc82-4258-922c-80a3ec003306",
   "metadata": {},
   "outputs": [
    {
     "data": {
      "text/plain": [
       "Ttest_indResult(statistic=1.9460491517027683, pvalue=0.05166679015318526)"
      ]
     },
     "execution_count": 14,
     "metadata": {},
     "output_type": "execute_result"
    }
   ],
   "source": [
    "# T-тест для сглаженного CTR\n",
    "\n",
    "stats.ttest_ind(group1[group1.exp_group == 1].smothed_ctr,\n",
    "                group2[group2.exp_group == 2].smothed_ctr,\n",
    "                equal_var=False)"
   ]
  },
  {
   "cell_type": "markdown",
   "id": "abf383b2-5c00-417e-ba80-70c39eec9b1a",
   "metadata": {},
   "source": [
    "Согласно t-тесту p value получается незначительно больше 0.05. То есть мы не принимаем гипотезу о том, что новая система рекомендаций приводит к увееличению CTR."
   ]
  },
  {
   "cell_type": "markdown",
   "id": "7f9d1ffb-ba87-41a2-bb24-3e706acc76fe",
   "metadata": {},
   "source": [
    "## Пуассоновский бутстреп"
   ]
  },
  {
   "cell_type": "code",
   "execution_count": 16,
   "id": "a78905c7-4450-405e-a3a0-86673e5f953f",
   "metadata": {},
   "outputs": [
    {
     "data": {
      "text/plain": [
       "<Axes: ylabel='Count'>"
      ]
     },
     "execution_count": 16,
     "metadata": {},
     "output_type": "execute_result"
    },
    {
     "data": {
      "image/png": "[encoded data removed]",
      "text/plain": [
       "<Figure size 1296x864 with 1 Axes>"
      ]
     },
     "metadata": {},
     "output_type": "display_data"
    }
   ],
   "source": [
    "def bootstrap(likes1, views1, likes2, views2, n_bootstrap=2000):\n",
    "\n",
    "    poisson_bootstraps1 = stats.poisson(1).rvs(\n",
    "        (n_bootstrap, len(likes1))).astype(np.int64)\n",
    "\n",
    "    poisson_bootstraps2 = stats.poisson(1).rvs(\n",
    "            (n_bootstrap, len(likes2))).astype(np.int64)\n",
    "    \n",
    "    globalCTR1 = (poisson_bootstraps1*likes1).sum(axis=1)/(poisson_bootstraps1*views1).sum(axis=1)\n",
    "    \n",
    "    globalCTR2 = (poisson_bootstraps2*likes2).sum(axis=1)/(poisson_bootstraps2*views2).sum(axis=1)\n",
    "\n",
    "    return globalCTR1, globalCTR2\n",
    "\n",
    "\n",
    "\n",
    "likes1 = df[df.exp_group == 1].likes.to_numpy()\n",
    "views1 = df[df.exp_group == 1].views.to_numpy()\n",
    "likes2 = df[df.exp_group == 2].likes.to_numpy()\n",
    "views2 = df[df.exp_group == 2].views.to_numpy()\n",
    "\n",
    "ctr1, ctr2 = bootstrap(likes1, views1, likes2, views2)\n",
    "\n",
    "sns.histplot(ctr1)\n",
    "sns.histplot(ctr2)"
   ]
  },
  {
   "cell_type": "code",
   "execution_count": 17,
   "id": "4e449134-a382-4857-bf90-420d848df618",
   "metadata": {},
   "outputs": [
    {
     "data": {
      "text/plain": [
       "<Axes: ylabel='Count'>"
      ]
     },
     "execution_count": 17,
     "metadata": {},
     "output_type": "execute_result"
    },
    {
     "data": {
      "image/png": "[encoded data removed]",
      "text/plain": [
       "<Figure size 1296x864 with 1 Axes>"
      ]
     },
     "metadata": {},
     "output_type": "display_data"
    }
   ],
   "source": [
    "sns.histplot(ctr2 - ctr1)"
   ]
  },
  {
   "cell_type": "markdown",
   "id": "8fbf42e9-15ab-4de1-9675-31d74866a5fd",
   "metadata": {},
   "source": [
    "После бутстрепа распределения CTR получились непересекающимися. Причем CTR в первой группе был больше чем во второй (это видно из распределения разности CTR). Таким образом мы не принимаем гипотезу о том, что новая система рекомендаций приводит к увееличению CTR. Потому что новая система рекомендаций привела к снижению CTR."
   ]
  },
  {
   "cell_type": "markdown",
   "id": "548119dc-9b8b-4fb4-a850-2158f57a735e",
   "metadata": {},
   "source": [
    "##  T-тест и тест Манна-Уитни поверх бакетного преобразования"
   ]
  },
  {
   "cell_type": "code",
   "execution_count": 19,
   "id": "053dc13c-dacc-4df7-b33a-6c67d7bfb193",
   "metadata": {},
   "outputs": [],
   "source": [
    "#Разобьем пользователей на 50 бакетов\n",
    "\n",
    "q = \"\"\"\n",
    "\n",
    "SELECT exp_group, bucket,\n",
    "    sum(likes)/sum(views) as bucket_ctr,\n",
    "    quantileExact(0.9)(ctr) as ctr9\n",
    "FROM (SELECT exp_group, \n",
    "        xxHash64(user_id)%50 as bucket,\n",
    "        user_id,\n",
    "        sum(action = 'like') as likes,\n",
    "        sum(action = 'view') as views,\n",
    "        likes/views as ctr\n",
    "    FROM {db}.feed_actions \n",
    "    WHERE toDate(time) between '2023-06-30' and '2023-07-06'\n",
    "        and exp_group in (1,2)\n",
    "    GROUP BY exp_group, bucket, user_id)\n",
    "GROUP BY exp_group, bucket\n",
    "\"\"\"\n",
    "\n",
    "df = pandahouse.read_clickhouse(q, connection=connection)"
   ]
  },
  {
   "cell_type": "code",
   "execution_count": 20,
   "id": "284278a1-0d0b-4a24-8a62-f130b355180c",
   "metadata": {},
   "outputs": [
    {
     "data": {
      "text/plain": [
       "MannwhitneyuResult(statistic=1997.0, pvalue=2.6576427804010095e-07)"
      ]
     },
     "execution_count": 20,
     "metadata": {},
     "output_type": "execute_result"
    }
   ],
   "source": [
    "# Проведем тест Манна-Уитни\n",
    "stats.mannwhitneyu(df[df.exp_group == 1].bucket_ctr, \n",
    "                   df[df.exp_group == 2].bucket_ctr, \n",
    "                   alternative = 'two-sided')"
   ]
  },
  {
   "cell_type": "markdown",
   "id": "6c6c09cd-25fd-43b3-ba99-1901b4d29004",
   "metadata": {},
   "source": [
    "В результате теста получаем маленькое значение p value. То есть гипотеза о том, что новая система рекомендаций приводит к увееличению CTR принимается."
   ]
  },
  {
   "cell_type": "code",
   "execution_count": 21,
   "id": "fe971aed-1e5b-4800-8c19-85cafe27f24a",
   "metadata": {},
   "outputs": [
    {
     "data": {
      "text/plain": [
       "Ttest_indResult(statistic=5.614819358149381, pvalue=4.592644937473873e-07)"
      ]
     },
     "execution_count": 21,
     "metadata": {},
     "output_type": "execute_result"
    }
   ],
   "source": [
    "# Проведем t-тест\n",
    "stats.ttest_ind(df[df.exp_group == 1].bucket_ctr, \n",
    "                   df[df.exp_group == 2].bucket_ctr, \n",
    "                   equal_var = False)"
   ]
  },
  {
   "cell_type": "markdown",
   "id": "010315a9-96c4-4af2-9965-597cac64447f",
   "metadata": {},
   "source": [
    "Аналогисчно, в результате теста получаем маленькое значение p value. То есть гипотеза о том, что новая система рекомендаций приводит к увееличению CTR принимается"
   ]
  },
  {
   "cell_type": "markdown",
   "id": "c30b9d4e-b371-4b76-9a23-d79207dabfa7",
   "metadata": {},
   "source": [
    "## Выводы\n",
    "Мы провели 5 различных статистических тестов для принятия решения о вводе новой системы рекомендаций.\\\n",
    "Разные тесты показали разные результаты. Это могло произойти по разным причинам. Например, новая система рекомендаций по разному действует на пользователей внутри групп. То есть на кого-то она оказывает положительное влияние и эти пользователи начинают ставить больше лайков, их CTR увеличивается, а на кого-то она оказывает наоборот отрицательное влияние. \\\n",
    "Таким образом, на данный момент я бы не рекомендовал вводить новую систему рекомендаций. Необходимо провести дополнительные исследования."
   ]
  },
  {
   "cell_type": "code",
   "execution_count": null,
   "id": "59d0adc8-c37a-40bb-a4ab-253146da8bdc",
   "metadata": {},
   "outputs": [],
   "source": []
  }
 ],
 "metadata": {
  "kernelspec": {
   "display_name": "Python 3 (ipykernel)",
   "language": "python",
   "name": "python3"
  },
  "language_info": {
   "codemirror_mode": {
    "name": "ipython",
    "version": 3
   },
   "file_extension": ".py",
   "mimetype": "text/x-python",
   "name": "python",
   "nbconvert_exporter": "python",
   "pygments_lexer": "ipython3",
   "version": "3.8.10"
  }
 },
 "nbformat": 4,
 "nbformat_minor": 5
}
